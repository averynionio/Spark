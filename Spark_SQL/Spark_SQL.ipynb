{
 "cells": [
  {
   "cell_type": "code",
   "execution_count": null,
   "id": "82a8f1df",
   "metadata": {},
   "outputs": [],
   "source": [
    "!pip install pyspark"
   ]
  },
  {
   "cell_type": "code",
   "execution_count": 1,
   "id": "87d22fb0",
   "metadata": {},
   "outputs": [],
   "source": [
    "import pyspark\n",
    "import pandas as pd"
   ]
  },
  {
   "cell_type": "code",
   "execution_count": 2,
   "id": "3c3c1cc2",
   "metadata": {},
   "outputs": [
    {
     "data": {
      "text/html": [
       "<div>\n",
       "<style scoped>\n",
       "    .dataframe tbody tr th:only-of-type {\n",
       "        vertical-align: middle;\n",
       "    }\n",
       "\n",
       "    .dataframe tbody tr th {\n",
       "        vertical-align: top;\n",
       "    }\n",
       "\n",
       "    .dataframe thead th {\n",
       "        text-align: right;\n",
       "    }\n",
       "</style>\n",
       "<table border=\"1\" class=\"dataframe\">\n",
       "  <thead>\n",
       "    <tr style=\"text-align: right;\">\n",
       "      <th></th>\n",
       "      <th>Car</th>\n",
       "      <th>MPG</th>\n",
       "      <th>Cylinders</th>\n",
       "      <th>Displacement</th>\n",
       "      <th>Horsepower</th>\n",
       "      <th>Weight</th>\n",
       "      <th>Acceleration</th>\n",
       "      <th>Model</th>\n",
       "      <th>Origin</th>\n",
       "    </tr>\n",
       "  </thead>\n",
       "  <tbody>\n",
       "    <tr>\n",
       "      <th>0</th>\n",
       "      <td>Chevrolet Chevelle Malibu</td>\n",
       "      <td>18.0</td>\n",
       "      <td>8</td>\n",
       "      <td>307.0</td>\n",
       "      <td>130</td>\n",
       "      <td>3504</td>\n",
       "      <td>12.0</td>\n",
       "      <td>70</td>\n",
       "      <td>US</td>\n",
       "    </tr>\n",
       "    <tr>\n",
       "      <th>1</th>\n",
       "      <td>Buick Skylark 320</td>\n",
       "      <td>15.0</td>\n",
       "      <td>8</td>\n",
       "      <td>350.0</td>\n",
       "      <td>165</td>\n",
       "      <td>3693</td>\n",
       "      <td>11.5</td>\n",
       "      <td>70</td>\n",
       "      <td>US</td>\n",
       "    </tr>\n",
       "    <tr>\n",
       "      <th>2</th>\n",
       "      <td>Plymouth Satellite</td>\n",
       "      <td>18.0</td>\n",
       "      <td>8</td>\n",
       "      <td>318.0</td>\n",
       "      <td>150</td>\n",
       "      <td>3436</td>\n",
       "      <td>11.0</td>\n",
       "      <td>70</td>\n",
       "      <td>US</td>\n",
       "    </tr>\n",
       "    <tr>\n",
       "      <th>3</th>\n",
       "      <td>AMC Rebel SST</td>\n",
       "      <td>16.0</td>\n",
       "      <td>8</td>\n",
       "      <td>304.0</td>\n",
       "      <td>150</td>\n",
       "      <td>3433</td>\n",
       "      <td>12.0</td>\n",
       "      <td>70</td>\n",
       "      <td>US</td>\n",
       "    </tr>\n",
       "    <tr>\n",
       "      <th>4</th>\n",
       "      <td>Ford Torino</td>\n",
       "      <td>17.0</td>\n",
       "      <td>8</td>\n",
       "      <td>302.0</td>\n",
       "      <td>140</td>\n",
       "      <td>3449</td>\n",
       "      <td>10.5</td>\n",
       "      <td>70</td>\n",
       "      <td>US</td>\n",
       "    </tr>\n",
       "    <tr>\n",
       "      <th>...</th>\n",
       "      <td>...</td>\n",
       "      <td>...</td>\n",
       "      <td>...</td>\n",
       "      <td>...</td>\n",
       "      <td>...</td>\n",
       "      <td>...</td>\n",
       "      <td>...</td>\n",
       "      <td>...</td>\n",
       "      <td>...</td>\n",
       "    </tr>\n",
       "    <tr>\n",
       "      <th>401</th>\n",
       "      <td>Ford Mustang GL</td>\n",
       "      <td>27.0</td>\n",
       "      <td>4</td>\n",
       "      <td>140.0</td>\n",
       "      <td>86</td>\n",
       "      <td>2790</td>\n",
       "      <td>15.6</td>\n",
       "      <td>82</td>\n",
       "      <td>US</td>\n",
       "    </tr>\n",
       "    <tr>\n",
       "      <th>402</th>\n",
       "      <td>Volkswagen Pickup</td>\n",
       "      <td>44.0</td>\n",
       "      <td>4</td>\n",
       "      <td>97.0</td>\n",
       "      <td>52</td>\n",
       "      <td>2130</td>\n",
       "      <td>24.6</td>\n",
       "      <td>82</td>\n",
       "      <td>Europe</td>\n",
       "    </tr>\n",
       "    <tr>\n",
       "      <th>403</th>\n",
       "      <td>Dodge Rampage</td>\n",
       "      <td>32.0</td>\n",
       "      <td>4</td>\n",
       "      <td>135.0</td>\n",
       "      <td>84</td>\n",
       "      <td>2295</td>\n",
       "      <td>11.6</td>\n",
       "      <td>82</td>\n",
       "      <td>US</td>\n",
       "    </tr>\n",
       "    <tr>\n",
       "      <th>404</th>\n",
       "      <td>Ford Ranger</td>\n",
       "      <td>28.0</td>\n",
       "      <td>4</td>\n",
       "      <td>120.0</td>\n",
       "      <td>79</td>\n",
       "      <td>2625</td>\n",
       "      <td>18.6</td>\n",
       "      <td>82</td>\n",
       "      <td>US</td>\n",
       "    </tr>\n",
       "    <tr>\n",
       "      <th>405</th>\n",
       "      <td>Chevy S-10</td>\n",
       "      <td>31.0</td>\n",
       "      <td>4</td>\n",
       "      <td>119.0</td>\n",
       "      <td>82</td>\n",
       "      <td>2720</td>\n",
       "      <td>19.4</td>\n",
       "      <td>82</td>\n",
       "      <td>US</td>\n",
       "    </tr>\n",
       "  </tbody>\n",
       "</table>\n",
       "<p>406 rows × 9 columns</p>\n",
       "</div>"
      ],
      "text/plain": [
       "                           Car   MPG  Cylinders  Displacement  Horsepower  \\\n",
       "0    Chevrolet Chevelle Malibu  18.0          8         307.0         130   \n",
       "1            Buick Skylark 320  15.0          8         350.0         165   \n",
       "2           Plymouth Satellite  18.0          8         318.0         150   \n",
       "3                AMC Rebel SST  16.0          8         304.0         150   \n",
       "4                  Ford Torino  17.0          8         302.0         140   \n",
       "..                         ...   ...        ...           ...         ...   \n",
       "401            Ford Mustang GL  27.0          4         140.0          86   \n",
       "402          Volkswagen Pickup  44.0          4          97.0          52   \n",
       "403              Dodge Rampage  32.0          4         135.0          84   \n",
       "404                Ford Ranger  28.0          4         120.0          79   \n",
       "405                 Chevy S-10  31.0          4         119.0          82   \n",
       "\n",
       "     Weight  Acceleration  Model  Origin  \n",
       "0      3504          12.0     70      US  \n",
       "1      3693          11.5     70      US  \n",
       "2      3436          11.0     70      US  \n",
       "3      3433          12.0     70      US  \n",
       "4      3449          10.5     70      US  \n",
       "..      ...           ...    ...     ...  \n",
       "401    2790          15.6     82      US  \n",
       "402    2130          24.6     82  Europe  \n",
       "403    2295          11.6     82      US  \n",
       "404    2625          18.6     82      US  \n",
       "405    2720          19.4     82      US  \n",
       "\n",
       "[406 rows x 9 columns]"
      ]
     },
     "execution_count": 2,
     "metadata": {},
     "output_type": "execute_result"
    }
   ],
   "source": [
    "pd.read_csv('cars.csv')"
   ]
  },
  {
   "cell_type": "code",
   "execution_count": 3,
   "id": "5a109aa0",
   "metadata": {},
   "outputs": [],
   "source": [
    "from pyspark.sql import SparkSession"
   ]
  },
  {
   "cell_type": "code",
   "execution_count": 4,
   "id": "ee985232",
   "metadata": {},
   "outputs": [],
   "source": [
    "ss = SparkSession.builder.appName(\"Demo\").getOrCreate()"
   ]
  },
  {
   "cell_type": "code",
   "execution_count": 5,
   "id": "88c19ceb",
   "metadata": {},
   "outputs": [
    {
     "data": {
      "text/html": [
       "\n",
       "            <div>\n",
       "                <p><b>SparkSession - in-memory</b></p>\n",
       "                \n",
       "        <div>\n",
       "            <p><b>SparkContext</b></p>\n",
       "\n",
       "            <p><a href=\"http://averys-air.attlocal.net:4040\">Spark UI</a></p>\n",
       "\n",
       "            <dl>\n",
       "              <dt>Version</dt>\n",
       "                <dd><code>v3.1.2</code></dd>\n",
       "              <dt>Master</dt>\n",
       "                <dd><code>local[*]</code></dd>\n",
       "              <dt>AppName</dt>\n",
       "                <dd><code>Demo</code></dd>\n",
       "            </dl>\n",
       "        </div>\n",
       "        \n",
       "            </div>\n",
       "        "
      ],
      "text/plain": [
       "<pyspark.sql.session.SparkSession at 0x7fb8480d6ac0>"
      ]
     },
     "execution_count": 5,
     "metadata": {},
     "output_type": "execute_result"
    }
   ],
   "source": [
    "ss"
   ]
  },
  {
   "cell_type": "code",
   "execution_count": 6,
   "id": "3b198938",
   "metadata": {},
   "outputs": [],
   "source": [
    "cars_df = ss.read.csv('cars.csv')"
   ]
  },
  {
   "cell_type": "code",
   "execution_count": 7,
   "id": "9bf6af04",
   "metadata": {},
   "outputs": [
    {
     "data": {
      "text/plain": [
       "DataFrame[_c0: string, _c1: string, _c2: string, _c3: string, _c4: string, _c5: string, _c6: string, _c7: string, _c8: string]"
      ]
     },
     "execution_count": 7,
     "metadata": {},
     "output_type": "execute_result"
    }
   ],
   "source": [
    "cars_df"
   ]
  },
  {
   "cell_type": "code",
   "execution_count": 8,
   "id": "8deae09b",
   "metadata": {},
   "outputs": [
    {
     "name": "stdout",
     "output_type": "stream",
     "text": [
      "+--------------------+---+---------+------------+----------+------+------------+-----+------+\n",
      "|                 _c0|_c1|      _c2|         _c3|       _c4|   _c5|         _c6|  _c7|   _c8|\n",
      "+--------------------+---+---------+------------+----------+------+------------+-----+------+\n",
      "|                 Car|MPG|Cylinders|Displacement|Horsepower|Weight|Acceleration|Model|Origin|\n",
      "|Chevrolet Chevell...| 18|        8|         307|       130|  3504|          12|   70|    US|\n",
      "|   Buick Skylark 320| 15|        8|         350|       165|  3693|        11.5|   70|    US|\n",
      "|  Plymouth Satellite| 18|        8|         318|       150|  3436|          11|   70|    US|\n",
      "|       AMC Rebel SST| 16|        8|         304|       150|  3433|          12|   70|    US|\n",
      "|         Ford Torino| 17|        8|         302|       140|  3449|        10.5|   70|    US|\n",
      "|    Ford Galaxie 500| 15|        8|         429|       198|  4341|          10|   70|    US|\n",
      "|    Chevrolet Impala| 14|        8|         454|       220|  4354|           9|   70|    US|\n",
      "|   Plymouth Fury iii| 14|        8|         440|       215|  4312|         8.5|   70|    US|\n",
      "|    Pontiac Catalina| 14|        8|         455|       225|  4425|          10|   70|    US|\n",
      "|  AMC Ambassador DPL| 15|        8|         390|       190|  3850|         8.5|   70|    US|\n",
      "|Citroen DS-21 Pallas|  0|        4|         133|       115|  3090|        17.5|   70|Europe|\n",
      "|Chevrolet Chevell...|  0|        8|         350|       165|  4142|        11.5|   70|    US|\n",
      "|    Ford Torino (sw)|  0|        8|         351|       153|  4034|          11|   70|    US|\n",
      "|Plymouth Satellit...|  0|        8|         383|       175|  4166|        10.5|   70|    US|\n",
      "|  AMC Rebel SST (sw)|  0|        8|         360|       175|  3850|          11|   70|    US|\n",
      "| Dodge Challenger SE| 15|        8|         383|       170|  3563|          10|   70|    US|\n",
      "|  Plymouth 'Cuda 340| 14|        8|         340|       160|  3609|           8|   70|    US|\n",
      "|Ford Mustang Boss...|  0|        8|         302|       140|  3353|           8|   70|    US|\n",
      "|Chevrolet Monte C...| 15|        8|         400|       150|  3761|         9.5|   70|    US|\n",
      "+--------------------+---+---------+------------+----------+------+------------+-----+------+\n",
      "only showing top 20 rows\n",
      "\n"
     ]
    }
   ],
   "source": [
    "cars_df.show()"
   ]
  },
  {
   "cell_type": "code",
   "execution_count": 9,
   "id": "fd94eaec",
   "metadata": {},
   "outputs": [],
   "source": [
    "cars_df = ss.read.option('header','true').csv('cars.csv')"
   ]
  },
  {
   "cell_type": "code",
   "execution_count": 10,
   "id": "c9b51f1b",
   "metadata": {},
   "outputs": [
    {
     "name": "stdout",
     "output_type": "stream",
     "text": [
      "+--------------------+---+---------+------------+----------+------+------------+-----+------+\n",
      "|                 Car|MPG|Cylinders|Displacement|Horsepower|Weight|Acceleration|Model|Origin|\n",
      "+--------------------+---+---------+------------+----------+------+------------+-----+------+\n",
      "|Chevrolet Chevell...| 18|        8|         307|       130|  3504|          12|   70|    US|\n",
      "|   Buick Skylark 320| 15|        8|         350|       165|  3693|        11.5|   70|    US|\n",
      "|  Plymouth Satellite| 18|        8|         318|       150|  3436|          11|   70|    US|\n",
      "|       AMC Rebel SST| 16|        8|         304|       150|  3433|          12|   70|    US|\n",
      "|         Ford Torino| 17|        8|         302|       140|  3449|        10.5|   70|    US|\n",
      "|    Ford Galaxie 500| 15|        8|         429|       198|  4341|          10|   70|    US|\n",
      "|    Chevrolet Impala| 14|        8|         454|       220|  4354|           9|   70|    US|\n",
      "|   Plymouth Fury iii| 14|        8|         440|       215|  4312|         8.5|   70|    US|\n",
      "|    Pontiac Catalina| 14|        8|         455|       225|  4425|          10|   70|    US|\n",
      "|  AMC Ambassador DPL| 15|        8|         390|       190|  3850|         8.5|   70|    US|\n",
      "|Citroen DS-21 Pallas|  0|        4|         133|       115|  3090|        17.5|   70|Europe|\n",
      "|Chevrolet Chevell...|  0|        8|         350|       165|  4142|        11.5|   70|    US|\n",
      "|    Ford Torino (sw)|  0|        8|         351|       153|  4034|          11|   70|    US|\n",
      "|Plymouth Satellit...|  0|        8|         383|       175|  4166|        10.5|   70|    US|\n",
      "|  AMC Rebel SST (sw)|  0|        8|         360|       175|  3850|          11|   70|    US|\n",
      "| Dodge Challenger SE| 15|        8|         383|       170|  3563|          10|   70|    US|\n",
      "|  Plymouth 'Cuda 340| 14|        8|         340|       160|  3609|           8|   70|    US|\n",
      "|Ford Mustang Boss...|  0|        8|         302|       140|  3353|           8|   70|    US|\n",
      "|Chevrolet Monte C...| 15|        8|         400|       150|  3761|         9.5|   70|    US|\n",
      "|Buick Estate Wago...| 14|        8|         455|       225|  3086|          10|   70|    US|\n",
      "+--------------------+---+---------+------------+----------+------+------------+-----+------+\n",
      "only showing top 20 rows\n",
      "\n"
     ]
    }
   ],
   "source": [
    "cars_df.show()"
   ]
  },
  {
   "cell_type": "code",
   "execution_count": 11,
   "id": "6cb55486",
   "metadata": {},
   "outputs": [
    {
     "data": {
      "text/plain": [
       "pyspark.sql.dataframe.DataFrame"
      ]
     },
     "execution_count": 11,
     "metadata": {},
     "output_type": "execute_result"
    }
   ],
   "source": [
    "type(cars_df)"
   ]
  },
  {
   "cell_type": "code",
   "execution_count": 12,
   "id": "c5c5bc5f",
   "metadata": {},
   "outputs": [
    {
     "name": "stdout",
     "output_type": "stream",
     "text": [
      "root\n",
      " |-- Car: string (nullable = true)\n",
      " |-- MPG: string (nullable = true)\n",
      " |-- Cylinders: string (nullable = true)\n",
      " |-- Displacement: string (nullable = true)\n",
      " |-- Horsepower: string (nullable = true)\n",
      " |-- Weight: string (nullable = true)\n",
      " |-- Acceleration: string (nullable = true)\n",
      " |-- Model: string (nullable = true)\n",
      " |-- Origin: string (nullable = true)\n",
      "\n"
     ]
    }
   ],
   "source": [
    "cars_df.printSchema()"
   ]
  },
  {
   "cell_type": "code",
   "execution_count": 13,
   "id": "099d0833",
   "metadata": {},
   "outputs": [],
   "source": [
    "cars_df = ss.read.option('header','true').csv('cars.csv', inferSchema=True)\n",
    "#cars_df = ss.read.csv('cars.csv', header=True, inferSchema=True)"
   ]
  },
  {
   "cell_type": "code",
   "execution_count": 14,
   "id": "e7030f51",
   "metadata": {},
   "outputs": [
    {
     "name": "stdout",
     "output_type": "stream",
     "text": [
      "root\n",
      " |-- Car: string (nullable = true)\n",
      " |-- MPG: double (nullable = true)\n",
      " |-- Cylinders: integer (nullable = true)\n",
      " |-- Displacement: double (nullable = true)\n",
      " |-- Horsepower: integer (nullable = true)\n",
      " |-- Weight: integer (nullable = true)\n",
      " |-- Acceleration: double (nullable = true)\n",
      " |-- Model: integer (nullable = true)\n",
      " |-- Origin: string (nullable = true)\n",
      "\n"
     ]
    }
   ],
   "source": [
    "cars_df.printSchema()"
   ]
  },
  {
   "cell_type": "code",
   "execution_count": 15,
   "id": "7488ef1f",
   "metadata": {},
   "outputs": [
    {
     "name": "stdout",
     "output_type": "stream",
     "text": [
      "+--------------------+----+---------+------------+----------+------+------------+-----+------+\n",
      "|                 Car| MPG|Cylinders|Displacement|Horsepower|Weight|Acceleration|Model|Origin|\n",
      "+--------------------+----+---------+------------+----------+------+------------+-----+------+\n",
      "|Chevrolet Chevell...|18.0|        8|       307.0|       130|  3504|        12.0|   70|    US|\n",
      "|   Buick Skylark 320|15.0|        8|       350.0|       165|  3693|        11.5|   70|    US|\n",
      "|  Plymouth Satellite|18.0|        8|       318.0|       150|  3436|        11.0|   70|    US|\n",
      "|       AMC Rebel SST|16.0|        8|       304.0|       150|  3433|        12.0|   70|    US|\n",
      "|         Ford Torino|17.0|        8|       302.0|       140|  3449|        10.5|   70|    US|\n",
      "+--------------------+----+---------+------------+----------+------+------------+-----+------+\n",
      "only showing top 5 rows\n",
      "\n"
     ]
    }
   ],
   "source": [
    "cars_df.show(5)"
   ]
  },
  {
   "cell_type": "code",
   "execution_count": 16,
   "id": "9177eb2a",
   "metadata": {},
   "outputs": [
    {
     "name": "stdout",
     "output_type": "stream",
     "text": [
      "+-------+--------------------+------------------+-----------------+------------------+-----------------+------------------+------------------+------------------+------+\n",
      "|summary|                 Car|               MPG|        Cylinders|      Displacement|       Horsepower|            Weight|      Acceleration|             Model|Origin|\n",
      "+-------+--------------------+------------------+-----------------+------------------+-----------------+------------------+------------------+------------------+------+\n",
      "|  count|                 406|               406|              406|               406|              406|               406|               406|               406|   406|\n",
      "|   mean|                null|23.051231527093602|5.475369458128079| 194.7795566502463|103.5295566502463|2979.4137931034484|15.519704433497521| 75.92118226600985|  null|\n",
      "| stddev|                null|   8.4017773522706|1.712159631548529|104.92245837948867|40.52065912106347| 847.0043282393513|2.8033588163425462|3.7487373454558743|  null|\n",
      "|    min|AMC Ambassador Br...|               0.0|                3|              68.0|                0|              1613|               8.0|                70|Europe|\n",
      "|    max|        Volvo Diesel|              46.6|                8|             455.0|              230|              5140|              24.8|                82|    US|\n",
      "+-------+--------------------+------------------+-----------------+------------------+-----------------+------------------+------------------+------------------+------+\n",
      "\n"
     ]
    }
   ],
   "source": [
    "cars_df.describe().show()"
   ]
  },
  {
   "cell_type": "code",
   "execution_count": 17,
   "id": "b7a514a1",
   "metadata": {},
   "outputs": [],
   "source": [
    "#DataFrame API Examples\n",
    "#select()\n",
    "#drop()\n",
    "#filter()\n",
    "#where()\n",
    "#withColumnRenamed()\n",
    "#withColumn() (Renaming and adding columns)\n",
    "#orderBy()\n",
    "#sort()\n",
    "#And many more : https://spark.apache.org/docs/latest/api/python/pyspark.sql.html"
   ]
  },
  {
   "cell_type": "code",
   "execution_count": 18,
   "id": "a4349046",
   "metadata": {},
   "outputs": [
    {
     "name": "stdout",
     "output_type": "stream",
     "text": [
      "+--------------------+-----+------+\n",
      "|                 Car|Model|Origin|\n",
      "+--------------------+-----+------+\n",
      "|Chevrolet Chevell...|   70|    US|\n",
      "|   Buick Skylark 320|   70|    US|\n",
      "|  Plymouth Satellite|   70|    US|\n",
      "|       AMC Rebel SST|   70|    US|\n",
      "|         Ford Torino|   70|    US|\n",
      "+--------------------+-----+------+\n",
      "only showing top 5 rows\n",
      "\n"
     ]
    }
   ],
   "source": [
    "#Choose five rows including Car, Model and Origin from the cars_df data frame.\n",
    "#select(<column_names> or list of dataframe[<column_name>])\n",
    "cars_df.select(\"Car\", \"Model\", \"Origin\").show(5)"
   ]
  },
  {
   "cell_type": "code",
   "execution_count": 19,
   "id": "b7e6e1b3",
   "metadata": {},
   "outputs": [
    {
     "name": "stdout",
     "output_type": "stream",
     "text": [
      "+--------------------+----+------+------------+-----+------+\n",
      "|                 Car| MPG|Weight|Acceleration|Model|Origin|\n",
      "+--------------------+----+------+------------+-----+------+\n",
      "|Chevrolet Chevell...|18.0|  3504|        12.0|   70|    US|\n",
      "|   Buick Skylark 320|15.0|  3693|        11.5|   70|    US|\n",
      "|  Plymouth Satellite|18.0|  3436|        11.0|   70|    US|\n",
      "|       AMC Rebel SST|16.0|  3433|        12.0|   70|    US|\n",
      "|         Ford Torino|17.0|  3449|        10.5|   70|    US|\n",
      "+--------------------+----+------+------------+-----+------+\n",
      "only showing top 5 rows\n",
      "\n"
     ]
    }
   ],
   "source": [
    "#Select all except the given columns.\n",
    "#.drop(<column_names>)\n",
    "cars_df.drop(\"Cylinders\",\"Displacement\",\"Horsepower\").show(5)"
   ]
  },
  {
   "cell_type": "code",
   "execution_count": 20,
   "id": "29f420b5",
   "metadata": {},
   "outputs": [
    {
     "name": "stdout",
     "output_type": "stream",
     "text": [
      "+--------------------+----+---------+------------+----------+------+------------+-----+------+\n",
      "|                 Car| MPG|Cylinders|Displacement|Horsepower|Weight|Acceleration|Model|Origin|\n",
      "+--------------------+----+---------+------------+----------+------+------------+-----+------+\n",
      "|Citroen DS-21 Pallas| 0.0|        4|       133.0|       115|  3090|        17.5|   70|Europe|\n",
      "|Volkswagen 1131 D...|26.0|        4|        97.0|        46|  1835|        20.5|   70|Europe|\n",
      "|         Peugeot 504|25.0|        4|       110.0|        87|  2672|        17.5|   70|Europe|\n",
      "+--------------------+----+---------+------------+----------+------+------------+-----+------+\n",
      "only showing top 3 rows\n",
      "\n",
      "+--------------------+----+---------+------------+----------+------+------------+-----+------+\n",
      "|                 Car| MPG|Cylinders|Displacement|Horsepower|Weight|Acceleration|Model|Origin|\n",
      "+--------------------+----+---------+------------+----------+------+------------+-----+------+\n",
      "|Citroen DS-21 Pallas| 0.0|        4|       133.0|       115|  3090|        17.5|   70|Europe|\n",
      "|Volkswagen 1131 D...|26.0|        4|        97.0|        46|  1835|        20.5|   70|Europe|\n",
      "|         Peugeot 504|25.0|        4|       110.0|        87|  2672|        17.5|   70|Europe|\n",
      "+--------------------+----+---------+------------+----------+------+------------+-----+------+\n",
      "only showing top 3 rows\n",
      "\n"
     ]
    }
   ],
   "source": [
    "#.filter(\"<constraints>\")\n",
    "#.where(\"<constraints>\")\n",
    "cars_df.filter(\"Origin == 'Europe'\").show(3)\n",
    "cars_df.where(\"Origin == 'Europe'\").show(3)"
   ]
  },
  {
   "cell_type": "code",
   "execution_count": 21,
   "id": "77c54092",
   "metadata": {},
   "outputs": [
    {
     "name": "stdout",
     "output_type": "stream",
     "text": [
      "+--------------------+----+---------+------------+----------+------+------------+-----+------+\n",
      "|                 Car| MPG|Cylinders|Displacement|Horsepower|Weight|Acceleration|Model|Origin|\n",
      "+--------------------+----+---------+------------+----------+------+------------+-----+------+\n",
      "|Citroen DS-21 Pallas| 0.0|        4|       133.0|       115|  3090|        17.5|   70|Europe|\n",
      "|           Volvo 245|20.0|        4|       130.0|       102|  3150|        15.7|   76|Europe|\n",
      "|         Peugeot 504|19.0|        4|       120.0|        88|  3270|        21.9|   76|Europe|\n",
      "+--------------------+----+---------+------------+----------+------+------------+-----+------+\n",
      "only showing top 3 rows\n",
      "\n",
      "+--------------------+----+---------+------------+----------+------+------------+-----+------+\n",
      "|                 Car| MPG|Cylinders|Displacement|Horsepower|Weight|Acceleration|Model|Origin|\n",
      "+--------------------+----+---------+------------+----------+------+------------+-----+------+\n",
      "|Citroen DS-21 Pallas| 0.0|        4|       133.0|       115|  3090|        17.5|   70|Europe|\n",
      "|           Volvo 245|20.0|        4|       130.0|       102|  3150|        15.7|   76|Europe|\n",
      "|         Peugeot 504|19.0|        4|       120.0|        88|  3270|        21.9|   76|Europe|\n",
      "+--------------------+----+---------+------------+----------+------+------------+-----+------+\n",
      "only showing top 3 rows\n",
      "\n"
     ]
    }
   ],
   "source": [
    "cars_df.filter(\"Origin == 'Europe' and Weight >= 3000\").show(3)\n",
    "cars_df.where(\"Origin == 'Europe' and Weight >= 3000\").show(3)"
   ]
  },
  {
   "cell_type": "code",
   "execution_count": 22,
   "id": "83c426df",
   "metadata": {},
   "outputs": [
    {
     "name": "stdout",
     "output_type": "stream",
     "text": [
      "+--------------------+----+---------+------------+----------+------+------------+-----+------+\n",
      "|                 Car| MPG|Cylinders|Displacement|Horsepower|Weight|Acceleration|Model|Origin|\n",
      "+--------------------+----+---------+------------+----------+------+------------+-----+------+\n",
      "|Citroen DS-21 Pallas| 0.0|        4|       133.0|       115|  3090|        17.5|   70|Europe|\n",
      "|Toyota Corolla Ma...|24.0|        4|       113.0|        95|  2372|        15.0|   70| Japan|\n",
      "|        Datsun PL510|27.0|        4|        97.0|        88|  2130|        14.5|   70| Japan|\n",
      "|Volkswagen 1131 D...|26.0|        4|        97.0|        46|  1835|        20.5|   70|Europe|\n",
      "|         Peugeot 504|25.0|        4|       110.0|        87|  2672|        17.5|   70|Europe|\n",
      "+--------------------+----+---------+------------+----------+------+------------+-----+------+\n",
      "only showing top 5 rows\n",
      "\n"
     ]
    }
   ],
   "source": [
    "cars_df.filter((cars_df[\"Origin\"] == 'Europe') |\n",
    "               (cars_df[\"Origin\"] == 'Japan') &\n",
    "               (cars_df[\"MPG\"] >= 20)).show(5)"
   ]
  },
  {
   "cell_type": "code",
   "execution_count": 23,
   "id": "127a2388",
   "metadata": {},
   "outputs": [
    {
     "name": "stdout",
     "output_type": "stream",
     "text": [
      "+--------------------+----+---------+------------+----------+------+------------+-----+------+\n",
      "|            Car_name| MPG|Cylinders|Displacement|Horsepower|Weight|Acceleration|Model|Origin|\n",
      "+--------------------+----+---------+------------+----------+------+------------+-----+------+\n",
      "|Chevrolet Chevell...|18.0|        8|       307.0|       130|  3504|        12.0|   70|    US|\n",
      "|   Buick Skylark 320|15.0|        8|       350.0|       165|  3693|        11.5|   70|    US|\n",
      "|  Plymouth Satellite|18.0|        8|       318.0|       150|  3436|        11.0|   70|    US|\n",
      "|       AMC Rebel SST|16.0|        8|       304.0|       150|  3433|        12.0|   70|    US|\n",
      "|         Ford Torino|17.0|        8|       302.0|       140|  3449|        10.5|   70|    US|\n",
      "+--------------------+----+---------+------------+----------+------+------------+-----+------+\n",
      "only showing top 5 rows\n",
      "\n"
     ]
    }
   ],
   "source": [
    "#.withColumnRenamed(existing_col_name, new_col_name) -> Rename columns\n",
    "#Change column name to Car_name from car\n",
    "cars_df.withColumnRenamed(\"Car\", \"Car_name\").show(5)"
   ]
  },
  {
   "cell_type": "code",
   "execution_count": 24,
   "id": "327939bb",
   "metadata": {},
   "outputs": [
    {
     "name": "stdout",
     "output_type": "stream",
     "text": [
      "+--------------------+----+---------+------------+----------+------+------------+-----+------+-----------+\n",
      "|                 Car| MPG|Cylinders|Displacement|Horsepower|Weight|Acceleration|Model|Origin|Over_weight|\n",
      "+--------------------+----+---------+------------+----------+------+------------+-----+------+-----------+\n",
      "|Chevrolet Chevell...|18.0|        8|       307.0|       130|  3504|        12.0|   70|    US|          4|\n",
      "|   Buick Skylark 320|15.0|        8|       350.0|       165|  3693|        11.5|   70|    US|        193|\n",
      "|  Plymouth Satellite|18.0|        8|       318.0|       150|  3436|        11.0|   70|    US|        -64|\n",
      "|       AMC Rebel SST|16.0|        8|       304.0|       150|  3433|        12.0|   70|    US|        -67|\n",
      "|         Ford Torino|17.0|        8|       302.0|       140|  3449|        10.5|   70|    US|        -51|\n",
      "+--------------------+----+---------+------------+----------+------+------------+-----+------+-----------+\n",
      "only showing top 5 rows\n",
      "\n",
      "+--------------------+----+---------+------------+----------+------+------------+-----+------+-----------+\n",
      "|                 Car| MPG|Cylinders|Displacement|Horsepower|Weight|Acceleration|Model|Origin|Over_weight|\n",
      "+--------------------+----+---------+------------+----------+------+------------+-----+------+-----------+\n",
      "|Chevrolet Chevell...|18.0|        8|       307.0|       130|  3504|        12.0|   70|    US|       true|\n",
      "|   Buick Skylark 320|15.0|        8|       350.0|       165|  3693|        11.5|   70|    US|       true|\n",
      "|  Plymouth Satellite|18.0|        8|       318.0|       150|  3436|        11.0|   70|    US|      false|\n",
      "|       AMC Rebel SST|16.0|        8|       304.0|       150|  3433|        12.0|   70|    US|      false|\n",
      "|         Ford Torino|17.0|        8|       302.0|       140|  3449|        10.5|   70|    US|      false|\n",
      "+--------------------+----+---------+------------+----------+------+------------+-----+------+-----------+\n",
      "only showing top 5 rows\n",
      "\n"
     ]
    }
   ],
   "source": [
    "#.withColumn(columnName, columnExpression) -> Add columns.\n",
    "cars_df.withColumn('Over_weight', cars_df['Weight']-3500).show(5)\n",
    "cars_df.withColumn('Over_weight', (cars_df['Weight']-3500 > 0) == True).show(5)"
   ]
  },
  {
   "cell_type": "code",
   "execution_count": 25,
   "id": "8d126b34",
   "metadata": {},
   "outputs": [
    {
     "name": "stdout",
     "output_type": "stream",
     "text": [
      "+--------------------+----+---------+------------+----------+------+------------+-----+------+\n",
      "|                 Car| MPG|Cylinders|Displacement|Horsepower|Weight|Acceleration|Model|Origin|\n",
      "+--------------------+----+---------+------------+----------+------+------------+-----+------+\n",
      "|AMC Ambassador Br...|13.0|        8|       360.0|       175|  3821|        11.0|   73|    US|\n",
      "|  AMC Ambassador DPL|15.0|        8|       390.0|       190|  3850|         8.5|   70|    US|\n",
      "|  AMC Ambassador SST|17.0|        8|       304.0|       150|  3672|        11.5|   72|    US|\n",
      "+--------------------+----+---------+------------+----------+------+------------+-----+------+\n",
      "only showing top 3 rows\n",
      "\n",
      "+--------------------+----+---------+------------+----------+------+------------+-----+------+\n",
      "|                 Car| MPG|Cylinders|Displacement|Horsepower|Weight|Acceleration|Model|Origin|\n",
      "+--------------------+----+---------+------------+----------+------+------------+-----+------+\n",
      "|AMC Ambassador Br...|13.0|        8|       360.0|       175|  3821|        11.0|   73|    US|\n",
      "|  AMC Ambassador DPL|15.0|        8|       390.0|       190|  3850|         8.5|   70|    US|\n",
      "|  AMC Ambassador SST|17.0|        8|       304.0|       150|  3672|        11.5|   72|    US|\n",
      "+--------------------+----+---------+------------+----------+------+------------+-----+------+\n",
      "only showing top 3 rows\n",
      "\n"
     ]
    }
   ],
   "source": [
    "#.orderBy(columns, ascending = True)\n",
    "#.sort(columns, ascending = True)\n",
    "cars_df.orderBy(\"Car\").show(3)\n",
    "cars_df.sort(\"Car\").show(3)"
   ]
  },
  {
   "cell_type": "code",
   "execution_count": 26,
   "id": "cb109115",
   "metadata": {},
   "outputs": [
    {
     "name": "stdout",
     "output_type": "stream",
     "text": [
      "+------------+----+---------+------------+----------+------+------------+-----+------+\n",
      "|         Car| MPG|Cylinders|Displacement|Horsepower|Weight|Acceleration|Model|Origin|\n",
      "+------------+----+---------+------------+----------+------+------------+-----+------+\n",
      "|Volvo Diesel|30.7|        6|       145.0|        76|  3160|        19.6|   81|Europe|\n",
      "| Volvo 264gl|17.0|        6|       163.0|       125|  3140|        13.6|   78|Europe|\n",
      "|   Volvo 245|20.0|        4|       130.0|       102|  3150|        15.7|   76|Europe|\n",
      "+------------+----+---------+------------+----------+------+------------+-----+------+\n",
      "only showing top 3 rows\n",
      "\n",
      "+------------+----+---------+------------+----------+------+------------+-----+------+\n",
      "|         Car| MPG|Cylinders|Displacement|Horsepower|Weight|Acceleration|Model|Origin|\n",
      "+------------+----+---------+------------+----------+------+------------+-----+------+\n",
      "|Volvo Diesel|30.7|        6|       145.0|        76|  3160|        19.6|   81|Europe|\n",
      "| Volvo 264gl|17.0|        6|       163.0|       125|  3140|        13.6|   78|Europe|\n",
      "|   Volvo 245|20.0|        4|       130.0|       102|  3150|        15.7|   76|Europe|\n",
      "+------------+----+---------+------------+----------+------+------------+-----+------+\n",
      "only showing top 3 rows\n",
      "\n"
     ]
    }
   ],
   "source": [
    "cars_df.orderBy(\"Car\", ascending = False).show(3)\n",
    "cars_df.sort(\"Car\", ascending = False).show(3)"
   ]
  },
  {
   "cell_type": "code",
   "execution_count": 27,
   "id": "20637808",
   "metadata": {},
   "outputs": [],
   "source": [
    "#Math – abs, log, avg, count, etc.\n",
    "#String – length, concat, trim, contains ,etc.\n",
    "#Time – year, date_add, datediff, next_day ,etc.\n",
    "#Can be used in combination with groupBy()"
   ]
  },
  {
   "cell_type": "code",
   "execution_count": 28,
   "id": "c1fb75c4",
   "metadata": {},
   "outputs": [
    {
     "name": "stdout",
     "output_type": "stream",
     "text": [
      "+------+-----+\n",
      "|Origin|count|\n",
      "+------+-----+\n",
      "|Europe|   73|\n",
      "| Japan|   79|\n",
      "|    US|  254|\n",
      "+------+-----+\n",
      "\n",
      "+------+-----+\n",
      "|Origin|count|\n",
      "+------+-----+\n",
      "|    US|  254|\n",
      "| Japan|   79|\n",
      "|Europe|   73|\n",
      "+------+-----+\n",
      "\n"
     ]
    }
   ],
   "source": [
    "cars_df.groupBy(\"Origin\").count().orderBy(\"count\").show(5)\n",
    "cars_df.groupBy(\"Origin\").count().orderBy(\"count\", ascending = False).show(5)"
   ]
  },
  {
   "cell_type": "code",
   "execution_count": 29,
   "id": "536589f0",
   "metadata": {},
   "outputs": [
    {
     "name": "stdout",
     "output_type": "stream",
     "text": [
      "+--------------------+----+---------+------------+----------+------+------------+-----+------+----+\n",
      "|                 Car| MPG|Cylinders|Displacement|Horsepower|Weight|Acceleration|Model|Origin|Ford|\n",
      "+--------------------+----+---------+------------+----------+------+------------+-----+------+----+\n",
      "|         Ford Torino|17.0|        8|       302.0|       140|  3449|        10.5|   70|    US|true|\n",
      "|    Ford Galaxie 500|15.0|        8|       429.0|       198|  4341|        10.0|   70|    US|true|\n",
      "|    Ford Torino (sw)| 0.0|        8|       351.0|       153|  4034|        11.0|   70|    US|true|\n",
      "|Ford Mustang Boss...| 0.0|        8|       302.0|       140|  3353|         8.0|   70|    US|true|\n",
      "|       Ford Maverick|21.0|        6|       200.0|        85|  2587|        16.0|   70|    US|true|\n",
      "+--------------------+----+---------+------------+----------+------+------------+-----+------+----+\n",
      "only showing top 5 rows\n",
      "\n"
     ]
    }
   ],
   "source": [
    "#Create a column named \"Ford\"\n",
    "cars_df.withColumn('Ford', cars_df['Car'].contains('Ford'))\\\n",
    "       .filter(\"Ford == True\")\\\n",
    "       .show(5)"
   ]
  },
  {
   "cell_type": "code",
   "execution_count": 30,
   "id": "b36b993d",
   "metadata": {},
   "outputs": [
    {
     "name": "stdout",
     "output_type": "stream",
     "text": [
      "+--------------------+-----+------+------+\n",
      "|                 Car|Model|Weight|Origin|\n",
      "+--------------------+-----+------+------+\n",
      "|Chevrolet Chevell...|   70|  3504|    US|\n",
      "|   Buick Skylark 320|   70|  3693|    US|\n",
      "|  Plymouth Satellite|   70|  3436|    US|\n",
      "|       AMC Rebel SST|   70|  3433|    US|\n",
      "|         Ford Torino|   70|  3449|    US|\n",
      "+--------------------+-----+------+------+\n",
      "only showing top 5 rows\n",
      "\n"
     ]
    }
   ],
   "source": [
    "cars_df.select(\"Car\", \"Model\",\"Weight\", \"Origin\")\\\n",
    "       .filter(\"Weight >= 3000\")\\\n",
    "       .orderBy(\"Model\")\\\n",
    "       .show(5)"
   ]
  },
  {
   "cell_type": "code",
   "execution_count": 31,
   "id": "90232d43",
   "metadata": {},
   "outputs": [],
   "source": [
    "from pyspark.sql.functions import*"
   ]
  },
  {
   "cell_type": "code",
   "execution_count": 32,
   "id": "3585ba43",
   "metadata": {},
   "outputs": [
    {
     "name": "stdout",
     "output_type": "stream",
     "text": [
      "+--------------------+-------------+\n",
      "|                 Car|<lambda>(Car)|\n",
      "+--------------------+-------------+\n",
      "|Chevrolet Chevell...|        false|\n",
      "|   Buick Skylark 320|        false|\n",
      "|  Plymouth Satellite|        false|\n",
      "|       AMC Rebel SST|        false|\n",
      "|         Ford Torino|         true|\n",
      "+--------------------+-------------+\n",
      "only showing top 5 rows\n",
      "\n"
     ]
    }
   ],
   "source": [
    "check_Ford = udf(lambda x: (\"Ford\" in x) or (\"ford\" in x))\n",
    "cars_df.select(\"Car\", check_Ford(\"Car\")).show(5)"
   ]
  },
  {
   "cell_type": "code",
   "execution_count": 33,
   "id": "b8c335d4",
   "metadata": {},
   "outputs": [
    {
     "name": "stdout",
     "output_type": "stream",
     "text": [
      "+-----+-----------+\n",
      "|Model|min(Weight)|\n",
      "+-----+-----------+\n",
      "|   70|       1835|\n",
      "|   71|       1613|\n",
      "|   72|       2100|\n",
      "+-----+-----------+\n",
      "only showing top 3 rows\n",
      "\n"
     ]
    }
   ],
   "source": [
    "cars_df.groupBy(\"Model\").min(\"Weight\").orderBy(\"Model\").show(3)"
   ]
  },
  {
   "cell_type": "code",
   "execution_count": 34,
   "id": "3ce91be9",
   "metadata": {},
   "outputs": [
    {
     "name": "stdout",
     "output_type": "stream",
     "text": [
      "+-----+-----------+\n",
      "|Model|max(Weight)|\n",
      "+-----+-----------+\n",
      "|   70|       4732|\n",
      "|   71|       5140|\n",
      "|   72|       4633|\n",
      "+-----+-----------+\n",
      "only showing top 3 rows\n",
      "\n"
     ]
    }
   ],
   "source": [
    "cars_df.groupBy(\"Model\").max(\"Weight\").orderBy(\"Model\").show(3)"
   ]
  },
  {
   "cell_type": "code",
   "execution_count": 35,
   "id": "2f94fbfb",
   "metadata": {},
   "outputs": [
    {
     "name": "stdout",
     "output_type": "stream",
     "text": [
      "+-----+------------------+\n",
      "|Model|       avg(Weight)|\n",
      "+-----+------------------+\n",
      "|   70|3441.3142857142857|\n",
      "|   71| 2960.344827586207|\n",
      "|   72| 3237.714285714286|\n",
      "+-----+------------------+\n",
      "only showing top 3 rows\n",
      "\n"
     ]
    }
   ],
   "source": [
    "cars_df.groupBy(\"Model\").avg(\"Weight\").orderBy(\"Model\").show(3)"
   ]
  },
  {
   "cell_type": "code",
   "execution_count": 36,
   "id": "c375c0d4",
   "metadata": {},
   "outputs": [
    {
     "name": "stdout",
     "output_type": "stream",
     "text": [
      "+-----+-----------+-----------+------------------+\n",
      "|Model|min(Weight)|max(Weight)|       avg(Weight)|\n",
      "+-----+-----------+-----------+------------------+\n",
      "|   70|       1835|       4732|3441.3142857142857|\n",
      "|   71|       1613|       5140| 2960.344827586207|\n",
      "|   72|       2100|       4633| 3237.714285714286|\n",
      "+-----+-----------+-----------+------------------+\n",
      "only showing top 3 rows\n",
      "\n"
     ]
    }
   ],
   "source": [
    "cars_df.groupBy(\"Model\")\\\n",
    "       .agg(min(\"Weight\"), max(\"Weight\"), avg(\"Weight\"))\\\n",
    "       .orderBy(\"Model\")\\\n",
    "       .show(3)"
   ]
  },
  {
   "cell_type": "code",
   "execution_count": 37,
   "id": "2e03e6a4",
   "metadata": {},
   "outputs": [
    {
     "name": "stdout",
     "output_type": "stream",
     "text": [
      "+----+---+\n",
      "|name|age|\n",
      "+----+---+\n",
      "|   A| 18|\n",
      "|   B| 20|\n",
      "|   C| 40|\n",
      "+----+---+\n",
      "\n",
      "+----+------+\n",
      "|name|height|\n",
      "+----+------+\n",
      "|   D|   180|\n",
      "|   B|   175|\n",
      "|   E|   177|\n",
      "|   F|   163|\n",
      "+----+------+\n",
      "\n"
     ]
    }
   ],
   "source": [
    "ppl_1 = ss.read.option('header','true').csv('demo1.csv', inferSchema=True)\n",
    "ppl_2 = ss.read.option('header','true').csv('demo2.csv', inferSchema=True)\n",
    "ppl_1.show()\n",
    "ppl_2.show()"
   ]
  },
  {
   "cell_type": "code",
   "execution_count": 38,
   "id": "cb45c874",
   "metadata": {},
   "outputs": [],
   "source": [
    "#join(dataframe, condition, join_type)\n",
    "#Join types : inner (default), left_outer, right_outer, leftsemi"
   ]
  },
  {
   "cell_type": "code",
   "execution_count": 39,
   "id": "0f24bb94",
   "metadata": {},
   "outputs": [
    {
     "name": "stdout",
     "output_type": "stream",
     "text": [
      "+----+---+------+\n",
      "|name|age|height|\n",
      "+----+---+------+\n",
      "|   B| 20|   175|\n",
      "+----+---+------+\n",
      "\n",
      "+----+---+----+------+\n",
      "|name|age|name|height|\n",
      "+----+---+----+------+\n",
      "|   B| 20|   B|   175|\n",
      "+----+---+----+------+\n",
      "\n",
      "+----+---+------+\n",
      "|name|age|height|\n",
      "+----+---+------+\n",
      "|   B| 20|   175|\n",
      "+----+---+------+\n",
      "\n"
     ]
    }
   ],
   "source": [
    "#inner -> only show same name in both table\n",
    "ppl_1.join(ppl_2, 'name').show(2)\n",
    "ppl_1.join(ppl_2, ppl_1.name == ppl_2.name).show()\n",
    "ppl_1.join(ppl_2, 'name', 'inner').show()"
   ]
  },
  {
   "cell_type": "code",
   "execution_count": 40,
   "id": "7b970ffc",
   "metadata": {},
   "outputs": [
    {
     "name": "stdout",
     "output_type": "stream",
     "text": [
      "+----+----+----+------+\n",
      "|name| age|name|height|\n",
      "+----+----+----+------+\n",
      "|null|null|   F|   163|\n",
      "|null|null|   E|   177|\n",
      "|   B|  20|   B|   175|\n",
      "|null|null|   D|   180|\n",
      "|   C|  40|null|  null|\n",
      "|   A|  18|null|  null|\n",
      "+----+----+----+------+\n",
      "\n",
      "+----+----+------+\n",
      "|name| age|height|\n",
      "+----+----+------+\n",
      "|   F|null|   163|\n",
      "|   E|null|   177|\n",
      "|   B|  20|   175|\n",
      "|   D|null|   180|\n",
      "|   C|  40|  null|\n",
      "|   A|  18|  null|\n",
      "+----+----+------+\n",
      "\n"
     ]
    }
   ],
   "source": [
    "#outer -> show everything in both table\n",
    "ppl_1.join(ppl_2, ppl_1.name == ppl_2.name, 'outer').show()\n",
    "ppl_1.join(ppl_2, 'name', 'outer').show()"
   ]
  },
  {
   "cell_type": "code",
   "execution_count": 41,
   "id": "1bb8d3bd",
   "metadata": {},
   "outputs": [
    {
     "name": "stdout",
     "output_type": "stream",
     "text": [
      "+----+---+------+\n",
      "|name|age|height|\n",
      "+----+---+------+\n",
      "|   A| 18|  null|\n",
      "|   B| 20|   175|\n",
      "|   C| 40|  null|\n",
      "+----+---+------+\n",
      "\n"
     ]
    }
   ],
   "source": [
    "#left_outer -> show column in both table but name in ppl_1\n",
    "ppl_1.join(ppl_2, 'name', 'left_outer').show()"
   ]
  },
  {
   "cell_type": "code",
   "execution_count": 42,
   "id": "1224b037",
   "metadata": {},
   "outputs": [
    {
     "name": "stdout",
     "output_type": "stream",
     "text": [
      "+----+----+------+\n",
      "|name| age|height|\n",
      "+----+----+------+\n",
      "|   D|null|   180|\n",
      "|   B|  20|   175|\n",
      "|   E|null|   177|\n",
      "|   F|null|   163|\n",
      "+----+----+------+\n",
      "\n"
     ]
    }
   ],
   "source": [
    "#right_outer -> show column in both table but name in ppl_2\n",
    "ppl_1.join(ppl_2, 'name', 'right_outer').show()"
   ]
  },
  {
   "cell_type": "code",
   "execution_count": 43,
   "id": "e2b532d6",
   "metadata": {},
   "outputs": [
    {
     "name": "stdout",
     "output_type": "stream",
     "text": [
      "+----+---+\n",
      "|name|age|\n",
      "+----+---+\n",
      "|   B| 20|\n",
      "+----+---+\n",
      "\n"
     ]
    }
   ],
   "source": [
    "#leftsemi - Get the names within left table that appear in right table.\n",
    "ppl_1.join(ppl_2, 'name', 'leftsemi').show()"
   ]
  },
  {
   "cell_type": "code",
   "execution_count": 59,
   "id": "ccf071d9",
   "metadata": {},
   "outputs": [],
   "source": [
    "#Spark stores the table definition in the table catalog.\n",
    "#Format : .write.saveAsTable(name, format=None, mode=None, partitionBy=None)\n",
    "cars_df.write.option(\"path\",\"/Users/avery/Desktop/car\").saveAsTable(\"car_table\")\n",
    "ppl_1.write.option(\"path\",\"/Users/avery/Desktop/p1\").saveAsTable(\"p1_table\")\n",
    "ppl_2.write.option(\"path\",\"/Users/avery/Desktop/p2\").saveAsTable(\"p2_table\")"
   ]
  },
  {
   "cell_type": "code",
   "execution_count": null,
   "id": "038dd905",
   "metadata": {},
   "outputs": [],
   "source": [
    "cars_df.write.saveAsTable(\"car_table\")"
   ]
  },
  {
   "cell_type": "code",
   "execution_count": 61,
   "id": "6ddd9c47",
   "metadata": {},
   "outputs": [
    {
     "name": "stdout",
     "output_type": "stream",
     "text": [
      "+--------------------+----+---------+------------+----------+------+------------+-----+------+\n",
      "|                 Car| MPG|Cylinders|Displacement|Horsepower|Weight|Acceleration|Model|Origin|\n",
      "+--------------------+----+---------+------------+----------+------+------------+-----+------+\n",
      "|Chevrolet Chevell...|18.0|        8|       307.0|       130|  3504|        12.0|   70|    US|\n",
      "|   Buick Skylark 320|15.0|        8|       350.0|       165|  3693|        11.5|   70|    US|\n",
      "|  Plymouth Satellite|18.0|        8|       318.0|       150|  3436|        11.0|   70|    US|\n",
      "|       AMC Rebel SST|16.0|        8|       304.0|       150|  3433|        12.0|   70|    US|\n",
      "|         Ford Torino|17.0|        8|       302.0|       140|  3449|        10.5|   70|    US|\n",
      "|    Ford Galaxie 500|15.0|        8|       429.0|       198|  4341|        10.0|   70|    US|\n",
      "|    Chevrolet Impala|14.0|        8|       454.0|       220|  4354|         9.0|   70|    US|\n",
      "|   Plymouth Fury iii|14.0|        8|       440.0|       215|  4312|         8.5|   70|    US|\n",
      "|    Pontiac Catalina|14.0|        8|       455.0|       225|  4425|        10.0|   70|    US|\n",
      "|  AMC Ambassador DPL|15.0|        8|       390.0|       190|  3850|         8.5|   70|    US|\n",
      "|Citroen DS-21 Pallas| 0.0|        4|       133.0|       115|  3090|        17.5|   70|Europe|\n",
      "|Chevrolet Chevell...| 0.0|        8|       350.0|       165|  4142|        11.5|   70|    US|\n",
      "|    Ford Torino (sw)| 0.0|        8|       351.0|       153|  4034|        11.0|   70|    US|\n",
      "|Plymouth Satellit...| 0.0|        8|       383.0|       175|  4166|        10.5|   70|    US|\n",
      "|  AMC Rebel SST (sw)| 0.0|        8|       360.0|       175|  3850|        11.0|   70|    US|\n",
      "| Dodge Challenger SE|15.0|        8|       383.0|       170|  3563|        10.0|   70|    US|\n",
      "|  Plymouth 'Cuda 340|14.0|        8|       340.0|       160|  3609|         8.0|   70|    US|\n",
      "|Ford Mustang Boss...| 0.0|        8|       302.0|       140|  3353|         8.0|   70|    US|\n",
      "|Chevrolet Monte C...|15.0|        8|       400.0|       150|  3761|         9.5|   70|    US|\n",
      "|Buick Estate Wago...|14.0|        8|       455.0|       225|  3086|        10.0|   70|    US|\n",
      "+--------------------+----+---------+------------+----------+------+------------+-----+------+\n",
      "only showing top 20 rows\n",
      "\n"
     ]
    }
   ],
   "source": [
    "ss.sql(\"select * from parquet.`/Users/avery/Desktop/car`\").show()"
   ]
  }
 ],
 "metadata": {
  "kernelspec": {
   "display_name": "Python 3",
   "language": "python",
   "name": "python3"
  },
  "language_info": {
   "codemirror_mode": {
    "name": "ipython",
    "version": 3
   },
   "file_extension": ".py",
   "mimetype": "text/x-python",
   "name": "python",
   "nbconvert_exporter": "python",
   "pygments_lexer": "ipython3",
   "version": "3.8.8"
  }
 },
 "nbformat": 4,
 "nbformat_minor": 5
}
